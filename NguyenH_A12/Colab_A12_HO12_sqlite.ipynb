{
  "cells": [
    {
      "cell_type": "markdown",
      "metadata": {
        "id": "ZgULxg_0AuZL"
      },
      "source": [
        "###**Q1**.  Use [Lucidchart](https://sjsu.edu/it/services/applications/lucidchart.php) to create an Entity Relationship Diagram (ERD) for the following tables representing a customer order tracking system:\n",
        "\n",
        "Tables and fields:\n",
        "1. product:\n",
        "    - product_id: INTEGER (Primary key)\n",
        "    - name: TEXT not null\n",
        "    - price: REAL\n",
        "\n",
        "\n",
        "2. customer:\n",
        "    - customer_id: INTEGER (Primary key)\n",
        "    - name: TEXT not null\n",
        "    - email: TEXT not null\n",
        "\n",
        "\n",
        "3. purchase_order:\n",
        "    - order_id: INTEGER (Primary key)\n",
        "    - customer_id: INTEGER (Foreign key)\n",
        "    - date: TEXT not null (\"YYYY-MM-DD\")\n",
        "\n",
        "\n",
        "4. order_item:\n",
        "    - order_id: INTEGER (Foreign key)\n",
        "    - product_id: INTEGER (Foreign key)\n",
        "    - quantity: INTEGER\n",
        "    \n",
        "\n",
        "\n",
        "Export the ERD as PDF and submit it in Canvas."
      ]
    },
    {
      "cell_type": "markdown",
      "metadata": {
        "id": "PZJtgMx7AuZO"
      },
      "source": [
        "###**Q2**. Create SQLite tables and load data\n",
        "1. Here are the csv files for the data for the four tables:\n",
        "   - product: https://raw.githubusercontent.com/csbfx/cs133/main/product.csv\n",
        "   - customer: https://raw.githubusercontent.com/csbfx/cs133/main/customer.csv\n",
        "   - order_item: https://raw.githubusercontent.com/csbfx/cs133/main/order_item.csv\n",
        "   - purchase_order: https://raw.githubusercontent.com/csbfx/cs133/main/purchase_order.csv\n",
        "2. In this notebook, create the database and save it in a file called `store.db`, and create the four tables as described above.\n",
        "3. Load the data in the csv files into the corresponding table.\n",
        "4. Commit so that the data loaded to the tables to officially written to the tables.\n",
        "5. Execute a query SELECT * from each table to make sure the data are properly loaded.\n",
        "6. Execute a query using SELECT statement that queries with JOIN tables to find the purchase date, the products and quantities that a particular customer has purchased."
      ]
    },
    {
      "cell_type": "code",
      "source": [
        "import pandas as pd\n",
        "import sqlite3\n",
        "from pathlib import Path\n",
        "from google.colab import drive"
      ],
      "metadata": {
        "id": "LD_4nxf91nXJ"
      },
      "execution_count": 3,
      "outputs": []
    },
    {
      "cell_type": "code",
      "execution_count": null,
      "metadata": {
        "id": "w4xnppG8AuZP"
      },
      "outputs": [],
      "source": [
        "# 2.2 Create the database and save it in a file called store.db, and create the four tables as described above.\n",
        "# Your code here . . ."
      ]
    },
    {
      "cell_type": "code",
      "source": [
        "# Finding path\n",
        "drive.mount('/content/drive')\n",
        "!ls drive/MyDrive/cs/cs133/Assignments"
      ],
      "metadata": {
        "id": "LAIaT71e1vx-",
        "colab": {
          "base_uri": "https://localhost:8080/"
        },
        "outputId": "3941c724-66e0-46b0-c4db-2c834fb77cf1"
      },
      "execution_count": 4,
      "outputs": [
        {
          "output_type": "stream",
          "name": "stdout",
          "text": [
            "Mounted at /content/drive\n",
            "A2_intro-colab.ipynb\t   A6_seaborn.ipynb\t\t     Colab_A12_HO12_sqlite.ipynb\n",
            "A3_pandas.ipynb\t\t   A7_scatter.ipynb\t\t     Colab_A8_plot_Marvel.ipynb\n",
            "A4_data_exploration.ipynb  Colab_A10_complicated-data.ipynb  Colab_A9_transform.ipynb\n",
            "A5_adv_pandas.ipynb\t   Colab_A11_heatmap.ipynb\n"
          ]
        }
      ]
    },
    {
      "cell_type": "code",
      "source": [
        "# Create the database and save it in a file called store.db\n",
        "gdrive='drive/MyDrive/cs/cs133/'\n",
        "Path(gdrive+'store.db').touch()\n",
        "\n",
        "conn = sqlite3.connect(gdrive+'store.db') # creates a connection to the database\n",
        "c = conn.cursor() # the cursor is what we'll actually use"
      ],
      "metadata": {
        "id": "sePb87uZ2C9z"
      },
      "execution_count": 5,
      "outputs": []
    },
    {
      "cell_type": "code",
      "source": [
        "# # Delete all rows from the tables\n",
        "# c.execute('DELETE FROM product')\n",
        "# c.execute('DELETE FROM customer')\n",
        "# c.execute('DELETE FROM purchase_order')\n",
        "# c.execute('DELETE FROM order_item')\n",
        "# conn.commit()"
      ],
      "metadata": {
        "id": "6xqU1OCm2ON1"
      },
      "execution_count": 6,
      "outputs": []
    },
    {
      "cell_type": "code",
      "source": [
        "# Create the the four tables\n",
        "c.execute('''CREATE TABLE IF NOT EXISTS product (\n",
        "    product_id INTEGER PRIMARY KEY,\n",
        "    name TEXT NOT NULL,\n",
        "    price REAL\n",
        ")''')\n",
        "c.execute('''CREATE TABLE IF NOT EXISTS customer (\n",
        "    customer_id INTEGER PRIMARY KEY,\n",
        "    name TEXT NOT NULL,\n",
        "    email TEXT NOT NULL\n",
        ")''')\n",
        "c.execute('''CREATE TABLE IF NOT EXISTS purchase_order (\n",
        "    order_id INTEGER PRIMARY KEY,\n",
        "    customer_id INTEGER,\n",
        "    date TEXT NOT NULL CHECK (date LIKE '____-__-__'),\n",
        "    FOREIGN KEY (customer_id)\n",
        "        REFERENCES customer(customer_id)\n",
        "            ON DELETE CASCADE\n",
        "            ON UPDATE NO ACTION\n",
        ")''')\n",
        "c.execute('''CREATE TABLE IF NOT EXISTS order_item (\n",
        "    order_id INTEGER,\n",
        "    product_id INTEGER,\n",
        "    quantity INTEGER,\n",
        "    FOREIGN KEY (order_id)\n",
        "        REFERENCES purchase_order(order_id)\n",
        "            ON DELETE CASCADE\n",
        "            ON UPDATE NO ACTION,\n",
        "    FOREIGN KEY (product_id)\n",
        "        REFERENCES product(product_id)\n",
        "            ON DELETE CASCADE\n",
        "            ON UPDATE NO ACTION\n",
        ")''')"
      ],
      "metadata": {
        "id": "-rrynRNh2UDi",
        "colab": {
          "base_uri": "https://localhost:8080/"
        },
        "outputId": "08da804f-f62c-4ec5-e39f-ab5635ba65d7"
      },
      "execution_count": 7,
      "outputs": [
        {
          "output_type": "execute_result",
          "data": {
            "text/plain": [
              "<sqlite3.Cursor at 0x7fdf2b165640>"
            ]
          },
          "metadata": {},
          "execution_count": 7
        }
      ]
    },
    {
      "cell_type": "code",
      "source": [
        "# 2.3 Load the data in the csv files into the corresponding table.\n",
        "product = pd.read_csv('https://raw.githubusercontent.com/csbfx/cs133/main/product.csv')\n",
        "product.to_sql('product', conn, if_exists='append', index = False)\n",
        "\n",
        "customer = pd.read_csv('https://raw.githubusercontent.com/csbfx/cs133/main/customer.csv')\n",
        "customer.to_sql('customer', conn, if_exists='append', index = False)\n",
        "\n",
        "purchase_order = pd.read_csv('https://raw.githubusercontent.com/csbfx/cs133/main/purchase_order.csv')\n",
        "purchase_order.to_sql('purchase_order', conn, if_exists='append', index = False)\n",
        "\n",
        "order_item = pd.read_csv('https://raw.githubusercontent.com/csbfx/cs133/main/order_item.csv')\n",
        "order_item.to_sql('order_item', conn, if_exists='append', index = False)"
      ],
      "metadata": {
        "id": "WPRhy-dSBY-c",
        "colab": {
          "base_uri": "https://localhost:8080/"
        },
        "outputId": "14e02ea8-c9d0-4d52-8754-7b2bf03f54bd"
      },
      "execution_count": 8,
      "outputs": [
        {
          "output_type": "execute_result",
          "data": {
            "text/plain": [
              "4"
            ]
          },
          "metadata": {},
          "execution_count": 8
        }
      ]
    },
    {
      "cell_type": "code",
      "source": [
        "# 2.4 Commit so that the data loaded to the tables to officially written to the tables.\n",
        "conn.commit()"
      ],
      "metadata": {
        "id": "VIBaGXPABbVO"
      },
      "execution_count": 9,
      "outputs": []
    },
    {
      "cell_type": "code",
      "source": [
        "# 2.5 Execute a query SELECT * from each table to make sure the data are properly loaded.\n",
        "c.execute('SELECT * FROM product')\n",
        "print(c.fetchall())\n",
        "c.execute('SELECT * FROM customer')\n",
        "print(c.fetchall())\n",
        "c.execute('SELECT * FROM purchase_order')\n",
        "print(c.fetchall())\n",
        "c.execute('SELECT * FROM order_item')\n",
        "print(c.fetchall())"
      ],
      "metadata": {
        "id": "wPHFswfYBgan",
        "colab": {
          "base_uri": "https://localhost:8080/"
        },
        "outputId": "3672b2c9-b9f1-4206-99ee-f55b43b0161a"
      },
      "execution_count": 10,
      "outputs": [
        {
          "output_type": "stream",
          "name": "stdout",
          "text": [
            "[(0, 'bicycle', 400.0), (1, 'helmet', 45.0), (2, 'gloves', 23.0), (3, 'chain', 48.0)]\n",
            "[(0, 'Wendy Lee', 'wlee@bike.com'), (1, 'Jason Brown', 'jb@speed.com'), (2, 'Harry Potter', 'hp@hogwarts.edu'), (3, 'Godric Gryffindor', 'gg@hogwards.edu')]\n",
            "[(0, 0, '2020-10-19'), (1, 0, '2020-10-20'), (2, 1, '2020-10-20')]\n",
            "[(0, 0, 1), (0, 1, 1), (1, 2, 2), (1, 3, 1)]\n"
          ]
        }
      ]
    },
    {
      "cell_type": "code",
      "source": [
        "# 2.6 Execute a query using SELECT statement that queries with JOIN tables to find the purchase date,\n",
        "#    the products and quantities that a particular customer has purchased.\n",
        "# Query 1: customer.name = Wendy Lee\n",
        "query_1 = '''SELECT customer.customer_id, customer.name, purchase_order.date, product.name, order_item.quantity\n",
        "          FROM purchase_order\n",
        "          JOIN customer ON purchase_order.customer_id = customer.customer_id\n",
        "          JOIN order_item ON purchase_order.order_id = order_item.order_id\n",
        "          JOIN product ON order_item.product_id = product.product_id\n",
        "          WHERE customer.name = 'Wendy Lee'\n",
        "          '''\n",
        "c.execute(query_1)\n",
        "print(c.fetchall())\n",
        "\n",
        "print()\n",
        "\n",
        "# Query 2: customer.name = Harry Potter\n",
        "query_2 = '''SELECT customer.customer_id, customer.name, purchase_order.date, product.name, order_item.quantity\n",
        "          FROM purchase_order\n",
        "          JOIN customer using (customer_id)\n",
        "          JOIN order_item using (order_id)\n",
        "          JOIN product using (product_id)\n",
        "          WHERE customer.name = 'Harry Potter'\n",
        "          '''\n",
        "c.execute(query_2)\n",
        "print(c.fetchall())"
      ],
      "metadata": {
        "id": "armxZeMPBmSe",
        "colab": {
          "base_uri": "https://localhost:8080/"
        },
        "outputId": "fbc8d85f-5913-49b0-8c9d-6a8defbe640a"
      },
      "execution_count": 15,
      "outputs": [
        {
          "output_type": "stream",
          "name": "stdout",
          "text": [
            "[(0, 'Wendy Lee', '2020-10-19', 'bicycle', 1), (0, 'Wendy Lee', '2020-10-19', 'helmet', 1), (0, 'Wendy Lee', '2020-10-20', 'gloves', 2), (0, 'Wendy Lee', '2020-10-20', 'chain', 1)]\n",
            "\n",
            "[]\n"
          ]
        }
      ]
    },
    {
      "cell_type": "code",
      "source": [
        "# Additional tasks\n",
        "# Appending a new row to one of the tables\n",
        "# Deleting row(s) with \"XXX\""
      ],
      "metadata": {
        "id": "h17Hwcs5jvoA"
      },
      "execution_count": null,
      "outputs": []
    },
    {
      "cell_type": "code",
      "source": [
        "# Appending a new row to one of the tables\n",
        "new_customer = (4, 'Hung', 'hung@gmail.com')\n",
        "c.execute(\"INSERT INTO customer VALUES (?, ?, ?)\", new_customer)\n",
        "conn.commit()\n",
        "\n",
        "# Verify the insertion\n",
        "c.execute(\"SELECT * FROM customer\")\n",
        "print(c.fetchall())"
      ],
      "metadata": {
        "colab": {
          "base_uri": "https://localhost:8080/"
        },
        "id": "DNwI41GRmX33",
        "outputId": "0da60d79-a23e-4cd1-d389-c8efc1986fc6"
      },
      "execution_count": 16,
      "outputs": [
        {
          "output_type": "stream",
          "name": "stdout",
          "text": [
            "[(0, 'Wendy Lee', 'wlee@bike.com'), (1, 'Jason Brown', 'jb@speed.com'), (2, 'Harry Potter', 'hp@hogwarts.edu'), (3, 'Godric Gryffindor', 'gg@hogwards.edu'), (4, 'Hung', 'hung@gmail.com')]\n"
          ]
        }
      ]
    },
    {
      "cell_type": "code",
      "source": [
        "# Delete rows with 'Jason Brown' in the 'name' column of the 'customer' table\n",
        "c.execute(\"DELETE FROM customer WHERE name = 'Jason Brown'\")\n",
        "conn.commit()\n",
        "\n",
        "# Verify the deletion\n",
        "c.execute(\"SELECT * FROM customer\")\n",
        "print(c.fetchall())"
      ],
      "metadata": {
        "colab": {
          "base_uri": "https://localhost:8080/"
        },
        "id": "xSmGN5_cmyJD",
        "outputId": "d90ea4f2-6545-42cd-ec25-9be7f47a38e4"
      },
      "execution_count": 17,
      "outputs": [
        {
          "output_type": "stream",
          "name": "stdout",
          "text": [
            "[(0, 'Wendy Lee', 'wlee@bike.com'), (2, 'Harry Potter', 'hp@hogwarts.edu'), (3, 'Godric Gryffindor', 'gg@hogwards.edu'), (4, 'Hung', 'hung@gmail.com')]\n"
          ]
        }
      ]
    },
    {
      "cell_type": "code",
      "source": [
        "conn.close()"
      ],
      "metadata": {
        "id": "0Dfuw0zMm8Sx"
      },
      "execution_count": 18,
      "outputs": []
    }
  ],
  "metadata": {
    "kernelspec": {
      "display_name": "Python 3",
      "language": "python",
      "name": "python3"
    },
    "language_info": {
      "codemirror_mode": {
        "name": "ipython",
        "version": 3
      },
      "file_extension": ".py",
      "mimetype": "text/x-python",
      "name": "python",
      "nbconvert_exporter": "python",
      "pygments_lexer": "ipython3",
      "version": "3.7.6"
    },
    "colab": {
      "provenance": []
    }
  },
  "nbformat": 4,
  "nbformat_minor": 0
}
